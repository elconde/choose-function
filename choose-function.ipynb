{
 "cells": [
  {
   "cell_type": "code",
   "execution_count": 1,
   "id": "43f51612",
   "metadata": {},
   "outputs": [],
   "source": [
    "import hunter"
   ]
  },
  {
   "cell_type": "code",
   "execution_count": 2,
   "id": "a278dbc5",
   "metadata": {},
   "outputs": [],
   "source": [
    "# Here is a set\n",
    "\n",
    "my_set = {1, 2 ,3, 4, 5}\n",
    "\n"
   ]
  },
  {
   "cell_type": "markdown",
   "id": "5ae54ec6",
   "metadata": {},
   "source": [
    "Question: How many subsets of my_set have exactly 5 elements?"
   ]
  },
  {
   "cell_type": "code",
   "execution_count": 3,
   "id": "39afa092",
   "metadata": {},
   "outputs": [
    {
     "name": "stdout",
     "output_type": "stream",
     "text": [
      "[{1, 2, 3, 4, 5}]\n"
     ]
    }
   ],
   "source": [
    "print(hunter.find_subsets(my_set, 5))"
   ]
  },
  {
   "cell_type": "markdown",
   "id": "9a0a81a8",
   "metadata": {},
   "source": [
    "How many subsets have exactly 1 element?"
   ]
  },
  {
   "cell_type": "code",
   "execution_count": 4,
   "id": "6e4d3085",
   "metadata": {},
   "outputs": [
    {
     "name": "stdout",
     "output_type": "stream",
     "text": [
      "[{1}, {2}, {3}, {4}, {5}]\n"
     ]
    }
   ],
   "source": [
    "print(hunter.find_subsets(my_set, 1))"
   ]
  },
  {
   "cell_type": "markdown",
   "id": "f6ded7cc",
   "metadata": {},
   "source": [
    "So far, pretty easy? Now, how many have exactly four elements?"
   ]
  },
  {
   "cell_type": "code",
   "execution_count": 5,
   "id": "a9fb5fe7",
   "metadata": {},
   "outputs": [
    {
     "name": "stdout",
     "output_type": "stream",
     "text": [
      "[{1, 2, 3, 4}, {1, 2, 3, 5}, {1, 2, 4, 5}, {1, 3, 4, 5}, {2, 3, 4, 5}]\n"
     ]
    }
   ],
   "source": [
    "print(hunter.find_subsets(my_set, 4))"
   ]
  },
  {
   "cell_type": "markdown",
   "id": "d546568e",
   "metadata": {},
   "source": [
    "That one was a bit tricker, but notice that each set is missing one and only element. So it should be the same as the number of subsets with just one element."
   ]
  },
  {
   "cell_type": "markdown",
   "id": "bc9c39bf",
   "metadata": {},
   "source": [
    "OK, this one is even tricker. How many have exactly two elements?"
   ]
  },
  {
   "cell_type": "code",
   "execution_count": 6,
   "id": "00b4c802",
   "metadata": {},
   "outputs": [
    {
     "name": "stdout",
     "output_type": "stream",
     "text": [
      "[{1, 2}, {1, 3}, {1, 4}, {1, 5}, {2, 3}, {2, 4}, {2, 5}, {3, 4}, {3, 5}, {4, 5}]\n",
      "10\n"
     ]
    }
   ],
   "source": [
    "subsets = hunter.find_subsets(my_set, 2)\n",
    "\n",
    "print(subsets)\n",
    "print(len(subsets))"
   ]
  },
  {
   "cell_type": "markdown",
   "id": "d0c79954",
   "metadata": {},
   "source": [
    "How do we answer these questions without using the code? First I have a puzzle.\n",
    "\n",
    "\n",
    "Ten people sit around a table. Each person has a glass of wine. Everyone clinks glasses with everyone else. How many clinks are there?\n",
    "\n",
    "\n"
   ]
  },
  {
   "cell_type": "markdown",
   "id": "fd18e933",
   "metadata": {},
   "source": [
    "Well...\n",
    "\n",
    "Person 1 makes 9 clinks (you can't clink your own glass)\n",
    "Person 2 makes 9 clinks\n",
    "Person 3 makes 9 clinks\n",
    "...\n",
    "Person 10 makes 9 clinks\n",
    "\n",
    "So the answer is 10 * 9 = 90, right?\n",
    "\n",
    "Not so fast!\n",
    "\n",
    "We've double-counted! Person 1 clinked with Person 2, and Person 2 clinked with Person 1, but that's not two clinks, that's only 1.\n",
    "\n",
    "So we need to divide by two. The answer is **45**.\n"
   ]
  },
  {
   "cell_type": "markdown",
   "id": "b1160c14",
   "metadata": {},
   "source": [
    "How does this relate to finding subsets?\n",
    "\n",
    "Well, we can rephrase the question like this:\n",
    "\n",
    "How many subsets of a set with 10 elements have exactly 2 elements?"
   ]
  },
  {
   "cell_type": "code",
   "execution_count": 7,
   "id": "15500610",
   "metadata": {},
   "outputs": [
    {
     "name": "stdout",
     "output_type": "stream",
     "text": [
      "[{1, 2}, {1, 3}, {1, 4}, {1, 5}, {1, 6}, {1, 7}, {8, 1}, {1, 9}, {1, 10}, {2, 3}, {2, 4}, {2, 5}, {2, 6}, {2, 7}, {8, 2}, {9, 2}, {2, 10}, {3, 4}, {3, 5}, {3, 6}, {3, 7}, {8, 3}, {9, 3}, {10, 3}, {4, 5}, {4, 6}, {4, 7}, {8, 4}, {9, 4}, {10, 4}, {5, 6}, {5, 7}, {8, 5}, {9, 5}, {10, 5}, {6, 7}, {8, 6}, {9, 6}, {10, 6}, {8, 7}, {9, 7}, {10, 7}, {8, 9}, {8, 10}, {9, 10}]\n",
      "45\n"
     ]
    }
   ],
   "source": [
    "people = {1,2,3,4,5,6,7,8,9,10}\n",
    "\n",
    "clinks = hunter.find_subsets(people, 2)\n",
    "print(clinks)\n",
    "print(len(clinks))"
   ]
  },
  {
   "cell_type": "markdown",
   "id": "b5a514dd",
   "metadata": {},
   "source": [
    "Remember that in sets, order doesn't matter, so..."
   ]
  },
  {
   "cell_type": "code",
   "execution_count": 8,
   "id": "3409aa8a",
   "metadata": {},
   "outputs": [
    {
     "data": {
      "text/plain": [
       "True"
      ]
     },
     "execution_count": 8,
     "metadata": {},
     "output_type": "execute_result"
    }
   ],
   "source": [
    "{1, 2} == {2, 1}"
   ]
  },
  {
   "cell_type": "markdown",
   "id": "8680a7c8",
   "metadata": {},
   "source": [
    "It's just like the puzzle. Person 1 clinks with person 2, and person 2 clinks with person 1, but this counts as only one clink."
   ]
  },
  {
   "cell_type": "markdown",
   "id": "b0b6bc1b",
   "metadata": {},
   "source": [
    "OK, here's a new set:"
   ]
  },
  {
   "cell_type": "code",
   "execution_count": 9,
   "id": "8b6f2cd3",
   "metadata": {},
   "outputs": [
    {
     "name": "stdout",
     "output_type": "stream",
     "text": [
      "26\n"
     ]
    }
   ],
   "source": [
    "new_set = {\n",
    "    'a', 'b', 'c', 'd', 'e', 'f', 'g', 'h', 'i', 'j', 'k', 'l', 'm',\n",
    "    'n', 'o', 'p', 'q', 'r', 's', 't', 'u', 'v', 'w', 'x', 'y', 'z'\n",
    "}\n",
    "\n",
    "size = len(new_set)\n",
    "print(size)"
   ]
  },
  {
   "cell_type": "markdown",
   "id": "225c6a50",
   "metadata": {},
   "source": [
    "How many subsets of this set have exactly two elements? Can you find a formula?\n",
    "\n"
   ]
  },
  {
   "cell_type": "code",
   "execution_count": 10,
   "id": "418b3279",
   "metadata": {},
   "outputs": [
    {
     "name": "stdout",
     "output_type": "stream",
     "text": [
      "325.0\n"
     ]
    }
   ],
   "source": [
    "print(size * (size - 1) / 2)"
   ]
  },
  {
   "cell_type": "markdown",
   "id": "eddd595b",
   "metadata": {},
   "source": [
    "OK, how many subsets of this set have exactly 10 elements? That's not so easy. I'll run the function first:"
   ]
  },
  {
   "cell_type": "code",
   "execution_count": 11,
   "id": "3b07b3a2",
   "metadata": {},
   "outputs": [
    {
     "name": "stdout",
     "output_type": "stream",
     "text": [
      "{'i', 'r', 'a', 'u', 'w', 'l', 'o', 'h', 'c', 'p', 'v', 'g', 's', 'j', 'z', 'e', 't', 'n', 'x', 'y', 'f', 'b', 'q', 'd', 'm', 'k'}\n"
     ]
    },
    {
     "name": "stderr",
     "output_type": "stream",
     "text": [
      "IOPub data rate exceeded.\n",
      "The notebook server will temporarily stop sending output\n",
      "to the client in order to avoid crashing it.\n",
      "To change this limit, set the config variable\n",
      "`--NotebookApp.iopub_data_rate_limit`.\n",
      "\n",
      "Current values:\n",
      "NotebookApp.iopub_data_rate_limit=1000000.0 (bytes/sec)\n",
      "NotebookApp.rate_limit_window=3.0 (secs)\n",
      "\n"
     ]
    }
   ],
   "source": [
    "print(new_set)\n",
    "subsets = hunter.find_subsets(new_set, 10)\n",
    "print(subsets)\n",
    "print(len(subsets))"
   ]
  },
  {
   "cell_type": "markdown",
   "id": "4425224b",
   "metadata": {},
   "source": [
    "That's so hard the computer couldn't do it in time."
   ]
  }
 ],
 "metadata": {
  "kernelspec": {
   "display_name": "Python 3 (ipykernel)",
   "language": "python",
   "name": "python3"
  },
  "language_info": {
   "codemirror_mode": {
    "name": "ipython",
    "version": 3
   },
   "file_extension": ".py",
   "mimetype": "text/x-python",
   "name": "python",
   "nbconvert_exporter": "python",
   "pygments_lexer": "ipython3",
   "version": "3.9.7"
  }
 },
 "nbformat": 4,
 "nbformat_minor": 5
}
